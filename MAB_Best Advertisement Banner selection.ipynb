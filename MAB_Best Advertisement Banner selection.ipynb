{
 "cells": [
  {
   "cell_type": "markdown",
   "metadata": {},
   "source": [
    "We are running a website and have 5 different banners for the same AD, we need to know which banner attracts the user most."
   ]
  },
  {
   "cell_type": "markdown",
   "metadata": {},
   "source": [
    "We model this problem statement as a brandit problem where 5 banners are 5 arms of the brandit and awards 1 point if user clicks the AD and awards 0 if user does not."
   ]
  },
  {
   "cell_type": "markdown",
   "metadata": {},
   "source": [
    "In normal A/B testing, we will perform complete exploration of these 5 banners before decide which banner is best. But it will cost more time and resources."
   ]
  },
  {
   "cell_type": "markdown",
   "metadata": {},
   "source": [
    "Instead here we will use optimal balance between exploitation and exploration using Thompson Sampling strategy."
   ]
  },
  {
   "cell_type": "code",
   "execution_count": 1,
   "metadata": {},
   "outputs": [],
   "source": [
    "import pandas as pd\n",
    "import numpy as np"
   ]
  },
  {
   "cell_type": "markdown",
   "metadata": {},
   "source": [
    "The probability of clicking any given AD (which is called the conversion rate) is unknown, and varies from AD to AD. We should be able to identify the AD that has the highest conversion rate as quickly as possible. "
   ]
  },
  {
   "cell_type": "markdown",
   "metadata": {},
   "source": [
    "#### Define Environment"
   ]
  },
  {
   "cell_type": "code",
   "execution_count": 2,
   "metadata": {},
   "outputs": [
    {
     "name": "stdout",
     "output_type": "stream",
     "text": [
      "Conversion rate for slot machine 0: 3.16%\n",
      "Conversion rate for slot machine 1: 11.36%\n",
      "Conversion rate for slot machine 2: 4.69%\n",
      "Conversion rate for slot machine 3: 8.47%\n",
      "Conversion rate for slot machine 4: 1.20%\n"
     ]
    }
   ],
   "source": [
    "#Define the total number of customer clicks\n",
    "number_of_clicks = 10000\n",
    "\n",
    "#define the total number of ADs\n",
    "number_of_ADs = 5\n",
    "\n",
    "#Define arrays where we can keep track of our clicks (positive rewards)and non-clicks (negative rewards) for each AD\n",
    "#shape parameters for beta distribution\n",
    "number_of_positive_rewards = np.zeros(number_of_ADs)\n",
    "number_of_negative_rewards = np.zeros(number_of_ADs)\n",
    "\n",
    "#define a seed for the random number generator (to ensure that results are reproducible)\n",
    "np.random.seed(12)\n",
    "\n",
    "#create a random conversion rate between 1% and 15% for each slot machine\n",
    "conversion_rates = np.random.uniform(0.01, 0.15, number_of_ADs)\n",
    "\n",
    "#Show conversion rates for each AD \n",
    "#Remember that in a real-world scenario decision-maker would not know this information!\n",
    "for i in range(number_of_ADs):\n",
    "  print('Conversion rate for slot machine {0}: {1:.2%}'.format(i, conversion_rates[i]))"
   ]
  },
  {
   "cell_type": "markdown",
   "metadata": {},
   "source": [
    "#### Create the Data Set"
   ]
  },
  {
   "cell_type": "code",
   "execution_count": 3,
   "metadata": {},
   "outputs": [],
   "source": [
    "np.random.seed(12)\n",
    "\n",
    "#The data set is a matrix with one row for each click, and one column for each AD\n",
    "#awards 1 point if user clicks the AD and awards 0 if user does not. \n",
    "\n",
    "outcomes = np.zeros((number_of_clicks, number_of_ADs)) \n",
    "for click_index in range(number_of_clicks): #for each click\n",
    "    for ADs_index in range(number_of_ADs): #for each AD\n",
    "        #Get a random number between 0.0 and 1.0.\n",
    "        #If the random number is less than or equal to this AD's conversion rate, then set the outcome to \"1\".\n",
    "        #Otherwise, the outcome will be \"0\" because the entire matrix was initially filled with zeros.\n",
    "        if np.random.rand() <= conversion_rates[ADs_index]:\n",
    "            outcomes[click_index][ADs_index] = 1"
   ]
  },
  {
   "cell_type": "code",
   "execution_count": 4,
   "metadata": {},
   "outputs": [
    {
     "name": "stdout",
     "output_type": "stream",
     "text": [
      "[[0. 0. 0. 0. 0.]\n",
      " [0. 0. 1. 0. 0.]\n",
      " [0. 0. 0. 0. 1.]\n",
      " [0. 0. 0. 0. 0.]\n",
      " [0. 1. 0. 0. 0.]\n",
      " [0. 0. 0. 0. 0.]\n",
      " [0. 0. 0. 0. 0.]\n",
      " [0. 0. 0. 0. 0.]\n",
      " [0. 0. 0. 0. 0.]\n",
      " [0. 0. 0. 0. 0.]]\n"
     ]
    }
   ],
   "source": [
    "#display data\n",
    "print(outcomes[0:10, 0:5]) "
   ]
  },
  {
   "cell_type": "code",
   "execution_count": 5,
   "metadata": {},
   "outputs": [
    {
     "name": "stdout",
     "output_type": "stream",
     "text": [
      "Mean for column 0: 3.28%\n",
      "Mean for column 1: 11.05%\n",
      "Mean for column 2: 4.57%\n",
      "Mean for column 3: 8.22%\n",
      "Mean for column 4: 1.16%\n"
     ]
    }
   ],
   "source": [
    "#show conversion rates for each column\n",
    "for i in range(5):\n",
    "  print('Mean for column {0}: {1:.2%}'.format(i, np.mean(outcomes[:, i])))"
   ]
  },
  {
   "cell_type": "markdown",
   "metadata": {},
   "source": [
    "approximate equal for defined conversion rates"
   ]
  },
  {
   "cell_type": "markdown",
   "metadata": {},
   "source": [
    "#### Run the Simulation using Thompson sampling exploration strategy"
   ]
  },
  {
   "cell_type": "code",
   "execution_count": 6,
   "metadata": {},
   "outputs": [],
   "source": [
    "#for each click\n",
    "for click_index in range(number_of_clicks):\n",
    "    index_of_AD_to_click = -1\n",
    "    max_beta = -1\n",
    "\n",
    "    #determine which AD to click\n",
    "    for ADs_index in range(number_of_ADs): \n",
    "        #Define the shape parameters for the beta distribution\n",
    "        a = number_of_positive_rewards[ADs_index] + 1\n",
    "        b = number_of_negative_rewards[ADs_index] + 1\n",
    "\n",
    "        #Get a random value from the beta distribution whose shape is defined by the number of\n",
    "        #clicks and non-clicks that have thus far been observed for this AD\n",
    "        random_beta = np.random.beta(a, b)\n",
    "\n",
    "        #if this is the largest beta value thus far observed for this iteration\n",
    "        if random_beta > max_beta:\n",
    "            max_beta = random_beta #update the maximum beta value thus far observed\n",
    "            index_of_AD_to_click = ADs_index #set the AD to click the current click\n",
    "    \n",
    "    #click the selected AD, and record whether click or not\n",
    "    if outcomes[click_index][index_of_AD_to_click] == 1:\n",
    "        number_of_positive_rewards[index_of_AD_to_click] += 1\n",
    "    else:\n",
    "        number_of_negative_rewards[index_of_AD_to_click] += 1\n"
   ]
  },
  {
   "cell_type": "code",
   "execution_count": 7,
   "metadata": {},
   "outputs": [
    {
     "name": "stdout",
     "output_type": "stream",
     "text": [
      "AD 0 was clicked 60.0 times\n",
      "AD 1 was clicked 9536.0 times\n",
      "AD 2 was clicked 95.0 times\n",
      "AD 3 was clicked 235.0 times\n",
      "AD 4 was clicked 74.0 times\n"
     ]
    }
   ],
   "source": [
    "#compute and display the total number of times each AD was clicked\n",
    "number_of_times_clicked = number_of_positive_rewards + number_of_negative_rewards \n",
    "for ADs_index in range(number_of_ADs): #for each slot machine\n",
    "    print('AD {0} was clicked {1} times'.format(ADs_index, number_of_times_clicked[ADs_index]))"
   ]
  },
  {
   "cell_type": "markdown",
   "metadata": {},
   "source": [
    "We can clearly see that after some time AI systems has learnt more about varying levels of rewards, that each AD provides and it quickly identifies best option to pursue in order to maximize cumulative rewards."
   ]
  },
  {
   "cell_type": "code",
   "execution_count": 10,
   "metadata": {},
   "outputs": [
    {
     "name": "stdout",
     "output_type": "stream",
     "text": [
      "\n",
      "Overall Conclusion: The best AD to didplay is AD No 1\n"
     ]
    }
   ],
   "source": [
    "#identify and display the best AD\n",
    "print('\\nOverall Conclusion: The best AD to didplay is AD No {}'.format(np.argmax(number_of_times_clicked)))"
   ]
  },
  {
   "cell_type": "code",
   "execution_count": null,
   "metadata": {},
   "outputs": [],
   "source": []
  }
 ],
 "metadata": {
  "kernelspec": {
   "display_name": "Python 3",
   "language": "python",
   "name": "python3"
  },
  "language_info": {
   "codemirror_mode": {
    "name": "ipython",
    "version": 3
   },
   "file_extension": ".py",
   "mimetype": "text/x-python",
   "name": "python",
   "nbconvert_exporter": "python",
   "pygments_lexer": "ipython3",
   "version": "3.7.4"
  }
 },
 "nbformat": 4,
 "nbformat_minor": 2
}
